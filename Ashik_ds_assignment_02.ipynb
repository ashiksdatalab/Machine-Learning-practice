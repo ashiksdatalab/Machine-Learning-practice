{
 "cells": [
  {
   "cell_type": "raw",
   "id": "97980297",
   "metadata": {},
   "source": [
    "1. Take values of the length & breadth of a rectangle from user input and check if it is square or not."
   ]
  },
  {
   "cell_type": "code",
   "execution_count": 1,
   "id": "578a4932",
   "metadata": {},
   "outputs": [
    {
     "name": "stdout",
     "output_type": "stream",
     "text": [
      "Enter the length2\n",
      "Enter the breadth2\n",
      "It is a square\n"
     ]
    }
   ],
   "source": [
    "length = int(input(\"Enter the length\"))\n",
    "breadth = int(input(\"Enter the breadth\"))\n",
    "if length == breadth:\n",
    "    print(\"It is a square\")\n",
    "else:\n",
    "    print(\"It is not square\")"
   ]
  },
  {
   "cell_type": "raw",
   "id": "b2289f18",
   "metadata": {},
   "source": [
    "2. Take three integer values from the user and print the greatest among them."
   ]
  },
  {
   "cell_type": "code",
   "execution_count": 2,
   "id": "4a6046bc",
   "metadata": {},
   "outputs": [
    {
     "name": "stdout",
     "output_type": "stream",
     "text": [
      "Enter your 1st number: 44\n",
      "Enter your 2nd number: 15\n",
      "Enter your 3rd number: 20\n",
      "greatest number is: 44\n"
     ]
    }
   ],
   "source": [
    "x = int(input(\"Enter your 1st number: \"))\n",
    "y = int(input(\"Enter your 2nd number: \"))\n",
    "z = int(input(\"Enter your 3rd number: \"))\n",
    "if x>y and x>z:\n",
    "    print(\"greatest number is:\",x)\n",
    "elif y>x and y>z:\n",
    "    print(\"greatest number is:\",y)\n",
    "else:\n",
    "    print(\"greatest number is:\",z)"
   ]
  },
  {
   "cell_type": "raw",
   "id": "74014f56",
   "metadata": {},
   "source": [
    "3. A student will not be allowed to sit in an exam if his/her attendance is less than 75%."
   ]
  },
  {
   "cell_type": "code",
   "execution_count": 3,
   "id": "84d151a1",
   "metadata": {},
   "outputs": [
    {
     "name": "stdout",
     "output_type": "stream",
     "text": [
      "Enter total class number:10\n",
      "Enter attend class number:7\n",
      "You are elegible to sit\n"
     ]
    }
   ],
   "source": [
    "total_class = int(input(\"Enter total class number:\"))\n",
    "attend_class = int(input(\"Enter attend class number:\"))\n",
    "attendance_percentage = total_class / attend_class * 100\n",
    "if attendance_percentage >=75:\n",
    "    print(\"You are elegible to sit\")\n",
    "else:\n",
    "    print(\"You are not elegible to sit\")"
   ]
  },
  {
   "cell_type": "raw",
   "id": "503305da",
   "metadata": {},
   "source": [
    "4. A school has the following rules for the grading system:\n",
    "Below 25 – F, 25 to 44 – E, 45 to 49 – D, 50 to 59 – C, 60 to 79 – B, 80 to 89 - A, Above 90 - A+\n",
    "Now, Ask the user to enter marks and print the corresponding grade."
   ]
  },
  {
   "cell_type": "code",
   "execution_count": 8,
   "id": "4a2c693f",
   "metadata": {},
   "outputs": [
    {
     "name": "stdout",
     "output_type": "stream",
     "text": [
      "Enter your marks: 80\n",
      "Your grade is: A\n"
     ]
    }
   ],
   "source": [
    "marks = float(input(\"Enter your marks: \"))\n",
    "\n",
    "if marks < 25:\n",
    "    grade = \"F\"\n",
    "elif marks < 45:\n",
    "    grade = \"E\"\n",
    "elif marks < 50:\n",
    "    grade = \"D\"\n",
    "elif marks < 60:\n",
    "    grade = \"C\"\n",
    "elif marks < 80:\n",
    "    grade = \"B\"\n",
    "elif marks < 90:\n",
    "    grade = \"A\"\n",
    "else:\n",
    "    grade = \"A+\"\n",
    "\n",
    "print(\"Your grade is:\", grade)\n"
   ]
  },
  {
   "cell_type": "raw",
   "id": "42ee3643",
   "metadata": {},
   "source": [
    "5. Print the following pattern using for and while loop.\n",
    "1 2 3 4 5 6 7\n",
    "1 2 3 4 5 6\n",
    "1 2 3 4 5\n",
    "1 2 3 4"
   ]
  },
  {
   "cell_type": "markdown",
   "id": "00eae5d8",
   "metadata": {},
   "source": [
    "for loop"
   ]
  },
  {
   "cell_type": "code",
   "execution_count": 9,
   "id": "6545d16b",
   "metadata": {},
   "outputs": [
    {
     "name": "stdout",
     "output_type": "stream",
     "text": [
      "1 2 3 4 5 6 7 \n",
      "1 2 3 4 5 6 \n",
      "1 2 3 4 5 \n",
      "1 2 3 4 \n",
      "1 2 3 \n",
      "1 2 \n",
      "1 \n"
     ]
    }
   ],
   "source": [
    "for i in range(7, 0, -1):\n",
    "    for j in range(1, i+1):\n",
    "        print(j, end=' ')\n",
    "    print()\n"
   ]
  },
  {
   "cell_type": "markdown",
   "id": "9abed413",
   "metadata": {},
   "source": [
    "while loop"
   ]
  },
  {
   "cell_type": "code",
   "execution_count": 10,
   "id": "110c8852",
   "metadata": {},
   "outputs": [
    {
     "name": "stdout",
     "output_type": "stream",
     "text": [
      "1 2 3 4 5 6 7 \n",
      "1 2 3 4 5 6 \n",
      "1 2 3 4 5 \n",
      "1 2 3 4 \n",
      "1 2 3 \n",
      "1 2 \n",
      "1 \n"
     ]
    }
   ],
   "source": [
    "i = 7\n",
    "while i > 0:\n",
    "    j = 1\n",
    "    while j <= i:\n",
    "        print(j, end=' ')\n",
    "        j += 1\n",
    "    print()\n",
    "    i -= 1\n"
   ]
  },
  {
   "cell_type": "raw",
   "id": "32231e86",
   "metadata": {},
   "source": [
    "6. Display numbers from -100 to -10 using for loop."
   ]
  },
  {
   "cell_type": "code",
   "execution_count": 11,
   "id": "149aff9d",
   "metadata": {},
   "outputs": [
    {
     "name": "stdout",
     "output_type": "stream",
     "text": [
      "-100 -99 -98 -97 -96 -95 -94 -93 -92 -91 -90 -89 -88 -87 -86 -85 -84 -83 -82 -81 -80 -79 -78 -77 -76 -75 -74 -73 -72 -71 -70 -69 -68 -67 -66 -65 -64 -63 -62 -61 -60 -59 -58 -57 -56 -55 -54 -53 -52 -51 -50 -49 -48 -47 -46 -45 -44 -43 -42 -41 -40 -39 -38 -37 -36 -35 -34 -33 -32 -31 -30 -29 -28 -27 -26 -25 -24 -23 -22 -21 -20 -19 -18 -17 -16 -15 -14 -13 -12 -11 "
     ]
    }
   ],
   "source": [
    "for num in range(-100, -10):\n",
    "    print(num, end=' ')\n"
   ]
  },
  {
   "cell_type": "raw",
   "id": "79fa1500",
   "metadata": {},
   "source": [
    "8. Find the factorial of an n! (Hint, n=7: 7*6*5*4*3*2*1)."
   ]
  },
  {
   "cell_type": "code",
   "execution_count": 12,
   "id": "676cf526",
   "metadata": {},
   "outputs": [
    {
     "name": "stdout",
     "output_type": "stream",
     "text": [
      "The factorial of 7 is: 5040\n"
     ]
    }
   ],
   "source": [
    "def factorial(n):\n",
    "    result = 1\n",
    "    for i in range(1, n+1):\n",
    "        result *= i\n",
    "    return result\n",
    "n = 7\n",
    "factorial_of_n = factorial(n)\n",
    "print(f\"The factorial of {n} is:\", factorial_of_n)\n"
   ]
  },
  {
   "cell_type": "code",
   "execution_count": 13,
   "id": "5bdb9d2b",
   "metadata": {},
   "outputs": [
    {
     "name": "stdout",
     "output_type": "stream",
     "text": [
      "Reversed number: 1704265972\n"
     ]
    }
   ],
   "source": [
    "def reverse_integer(number):\n",
    "    reversed_number = 0\n",
    "    while number > 0:\n",
    "        digit = number % 10\n",
    "        reversed_number = (reversed_number * 10) + digit\n",
    "        number = number // 10\n",
    "    return reversed_number\n",
    "number = 27956240710\n",
    "reversed_number = reverse_integer(number)\n",
    "print(\"Reversed number:\", reversed_number)\n"
   ]
  },
  {
   "cell_type": "raw",
   "id": "eddd5966",
   "metadata": {},
   "source": [
    "10. Print the following pattern using for and while loop.\n",
    "# # #\n",
    "# # # #\n",
    "# # #\n",
    "# #"
   ]
  },
  {
   "cell_type": "markdown",
   "id": "e79f681e",
   "metadata": {},
   "source": [
    "for loop"
   ]
  },
  {
   "cell_type": "code",
   "execution_count": 30,
   "id": "9d4d327f",
   "metadata": {},
   "outputs": [
    {
     "name": "stdout",
     "output_type": "stream",
     "text": [
      "# # # # \n",
      "# # # # # \n",
      "# # # # # # \n",
      "# # # # # # # \n",
      "# # # # # # # # \n",
      "# # # # # # # # # \n",
      "# # # # # # # # # # \n",
      "# # # # # # # # # # # \n"
     ]
    }
   ],
   "source": [
    "for i in range(1, 9):\n",
    "    if i <= 0:\n",
    "        print(\"# \" * i)\n",
    "    else:\n",
    "        print(\"# \" * (3 + i))\n"
   ]
  },
  {
   "cell_type": "markdown",
   "id": "07e329c7",
   "metadata": {},
   "source": [
    "while loop"
   ]
  },
  {
   "cell_type": "code",
   "execution_count": 35,
   "id": "119796ad",
   "metadata": {},
   "outputs": [
    {
     "name": "stdout",
     "output_type": "stream",
     "text": [
      "\n",
      "# # # \n",
      "# # # # # # \n",
      "# # # # # # # # # \n"
     ]
    }
   ],
   "source": [
    "i = 0\n",
    "while i <= 9:\n",
    "    if i <= 9:\n",
    "        print(\"# \" * i)\n",
    "    else:\n",
    "        print(\"# \" * (3 + i))\n",
    "    i += 3"
   ]
  },
  {
   "cell_type": "markdown",
   "id": "2e863745",
   "metadata": {},
   "source": [
    "11. Display the Fibonacci series of 15 elements using the for and while loop."
   ]
  },
  {
   "cell_type": "markdown",
   "id": "daca1ea5",
   "metadata": {},
   "source": [
    "for loop"
   ]
  },
  {
   "cell_type": "code",
   "execution_count": 36,
   "id": "15023b32",
   "metadata": {},
   "outputs": [
    {
     "name": "stdout",
     "output_type": "stream",
     "text": [
      "0 1 1 2 3 5 8 13 21 34 55 89 144 233 377 "
     ]
    }
   ],
   "source": [
    "a, b = 0, 1\n",
    "\n",
    "for _ in range(15):\n",
    "    print(a, end=\" \")\n",
    "    a, b = b, a + b\n"
   ]
  },
  {
   "cell_type": "markdown",
   "id": "526f21a7",
   "metadata": {},
   "source": [
    "while loop"
   ]
  },
  {
   "cell_type": "code",
   "execution_count": 37,
   "id": "ddfa6c0d",
   "metadata": {},
   "outputs": [
    {
     "name": "stdout",
     "output_type": "stream",
     "text": [
      "0 1 1 2 3 5 8 13 21 34 55 89 144 233 377 "
     ]
    }
   ],
   "source": [
    "a, b = 0, 1\n",
    "count = 0\n",
    "\n",
    "while count < 15:\n",
    "    print(a, end=\" \")\n",
    "    a, b = b, a + b\n",
    "    count += 1\n"
   ]
  },
  {
   "cell_type": "raw",
   "id": "218c1c1c",
   "metadata": {},
   "source": [
    "12. Remove 2 and add 3 to the list and replace True with False.\n",
    "Li = [1,3,5, [2,3], True]\n",
    "Output = [1,3,5, [3,3], False]"
   ]
  },
  {
   "cell_type": "code",
   "execution_count": 38,
   "id": "1f21c8a5",
   "metadata": {},
   "outputs": [
    {
     "name": "stdout",
     "output_type": "stream",
     "text": [
      "[1, 3, 5, [3, 3], False]\n"
     ]
    }
   ],
   "source": [
    "Li = [1, 3, 5, [2, 3], True]\n",
    "\n",
    "# Removing 2 and adding 3\n",
    "Li[3][0] = 3\n",
    "\n",
    "# Replacing True with False\n",
    "Li[-1] = False\n",
    "\n",
    "print(Li)\n"
   ]
  },
  {
   "cell_type": "raw",
   "id": "a337c607",
   "metadata": {},
   "source": [
    "13. Find the intersection (common) of two sets.\n",
    "S1 = {1,4,6,8}\n",
    "S2 = {True, 1,2,10}"
   ]
  },
  {
   "cell_type": "code",
   "execution_count": 39,
   "id": "20f71351",
   "metadata": {},
   "outputs": [
    {
     "name": "stdout",
     "output_type": "stream",
     "text": [
      "Intersection of S1 and S2: {True}\n"
     ]
    }
   ],
   "source": [
    "S1 = {1, 4, 6, 8}\n",
    "S2 = {True, 1, 2, 10}\n",
    "\n",
    "intersection = S1.intersection(S2)\n",
    "print(\"Intersection of S1 and S2:\", intersection)\n"
   ]
  },
  {
   "cell_type": "raw",
   "id": "833d4294",
   "metadata": {},
   "source": [
    "14. Input a list from the user then Remove duplicates from a list and create a set and find the max\n",
    "number. User_input = [1,9,3,4,5,200,54]"
   ]
  },
  {
   "cell_type": "code",
   "execution_count": 41,
   "id": "bf5b5ad7",
   "metadata": {},
   "outputs": [
    {
     "name": "stdout",
     "output_type": "stream",
     "text": [
      "Enter a list of numbers, separated by commas: 55,44,55,48,44\n",
      "Unique numbers: {48, 44, 55}\n",
      "Maximum number: 55\n"
     ]
    }
   ],
   "source": [
    "user_input = input(\"Enter a list of numbers, separated by commas: \")\n",
    "user_input = user_input.split(\",\")\n",
    "user_input = [int(num) for num in user_input]\n",
    "\n",
    "unique_numbers = set(user_input)\n",
    "\n",
    "max_number = max(unique_numbers)\n",
    "\n",
    "print(\"Unique numbers:\", unique_numbers)\n",
    "print(\"Maximum number:\", max_number)"
   ]
  },
  {
   "cell_type": "raw",
   "id": "f93a5982",
   "metadata": {},
   "source": [
    "15. Rename the key of a dictionary.\n",
    "Dict = { \"name\": \"Shakil\", \"age\":27, \"city\": “Berlin”, \"country\": \"Germany\" }\n",
    "Write a program to rename a key ‘country’ to a ‘region’ in the following dictionary."
   ]
  },
  {
   "cell_type": "code",
   "execution_count": 43,
   "id": "99768780",
   "metadata": {},
   "outputs": [
    {
     "name": "stdout",
     "output_type": "stream",
     "text": [
      "Updated Dictionary: {'name': 'Ashik', 'age': 18, 'city': 'Feni', 'Mother_land': 'Bangladesh'}\n"
     ]
    }
   ],
   "source": [
    "Dict = {\"name\": \"Ashik\", \"age\": 18, \"city\": \"Feni\", \"country\": \"Bangladesh\"}\n",
    "\n",
    "Dict['Mother_land'] = Dict.pop('country')\n",
    "\n",
    "print(\"Updated Dictionary:\", Dict)"
   ]
  },
  {
   "cell_type": "raw",
   "id": "9a90f45d",
   "metadata": {},
   "source": [
    "16. Creating a data frame using the list.\n",
    "num = [10,100,300] (column name is number)"
   ]
  },
  {
   "cell_type": "code",
   "execution_count": 44,
   "id": "92f887fc",
   "metadata": {},
   "outputs": [
    {
     "name": "stdout",
     "output_type": "stream",
     "text": [
      "   number\n",
      "0      10\n",
      "1     100\n",
      "2     300\n"
     ]
    }
   ],
   "source": [
    "import pandas as pd\n",
    "\n",
    "num = [10, 100, 300]\n",
    "\n",
    "data_frame = pd.DataFrame({'number': num})\n",
    "\n",
    "print(data_frame)"
   ]
  }
 ],
 "metadata": {
  "kernelspec": {
   "display_name": "Python 3 (ipykernel)",
   "language": "python",
   "name": "python3"
  },
  "language_info": {
   "codemirror_mode": {
    "name": "ipython",
    "version": 3
   },
   "file_extension": ".py",
   "mimetype": "text/x-python",
   "name": "python",
   "nbconvert_exporter": "python",
   "pygments_lexer": "ipython3",
   "version": "3.9.12"
  }
 },
 "nbformat": 4,
 "nbformat_minor": 5
}
